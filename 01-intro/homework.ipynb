{
 "cells": [
  {
   "cell_type": "code",
   "execution_count": 1,
   "id": "e9937a39-a56a-4658-9ce5-a17b21ef9b20",
   "metadata": {},
   "outputs": [],
   "source": [
    "import openai"
   ]
  },
  {
   "cell_type": "code",
   "execution_count": 2,
   "id": "49879193-0396-4d53-9002-4d6a96018c65",
   "metadata": {},
   "outputs": [],
   "source": [
    "from openai import OpenAI"
   ]
  },
  {
   "cell_type": "code",
   "execution_count": 3,
   "id": "2856a779-3a19-49eb-ae7f-51d86d7de618",
   "metadata": {},
   "outputs": [],
   "source": [
    "client = OpenAI()"
   ]
  },
  {
   "cell_type": "code",
   "execution_count": 4,
   "id": "a23fedd9-b75f-4876-b44c-a844ad58ccf1",
   "metadata": {},
   "outputs": [],
   "source": [
    "import os"
   ]
  },
  {
   "cell_type": "code",
   "execution_count": 7,
   "id": "7dce55cf-2bf9-4d3f-8b3e-20e3b29dd37d",
   "metadata": {},
   "outputs": [],
   "source": [
    "response = client.chat.completions.create(\n",
    "    model = 'gpt-4o',\n",
    "    messages=[{'role':'user', 'content':'is it too late to run the course'}]\n",
    "               )\n",
    "    "
   ]
  },
  {
   "cell_type": "code",
   "execution_count": 13,
   "id": "dd4bb6f0-631e-46da-be24-9c3394efdda5",
   "metadata": {},
   "outputs": [
    {
     "name": "stdout",
     "output_type": "stream",
     "text": [
      "It's never too late to pursue education or enroll in a course, as long as deadlines for registration and enrollment haven't passed. Here are a few steps to consider:\n",
      "\n",
      "1. **Check Deadlines:** Verify the enrollment or registration deadlines for the course you're interested in. Deadlines can vary widely between institutions and course providers.\n",
      "\n",
      "2. **Contact the Institution:** If you're close to or past the deadline, reach out directly to the course provider or institution. Sometimes exceptions can be made, or you might be placed on a waiting list.\n",
      "\n",
      "3. **Consider Alternatives:** If the course enrollment is closed, look for other institutions or online platforms that may offer a similar course. Many online platforms, such as Coursera, edX, Udemy, and others, offer flexible start dates.\n",
      "\n",
      "4. **Late Enrollment Policies:** Some institutions have late enrollment policies, which may allow you to join a course after it has started, possibly with some penalties or extra requirements.\n",
      "\n",
      "5. **Self-Study:** If formal enrollment isn't possible at this time, you might start self-studying the material using free resources, then formally enroll in a future session.\n",
      "\n",
      "6. **Online Courses:** Many online courses offer more flexible enrollment periods compared to traditional universities. Platforms such as Khan Academy, Coursera, or Udemy might have options available immediately.\n",
      "\n",
      "Remember that persistence and proactiveness usually help in these situations. Don’t hesitate to reach out and ask for options.\n"
     ]
    }
   ],
   "source": [
    "print(response.choices[0].message.content)"
   ]
  },
  {
   "cell_type": "code",
   "execution_count": null,
   "id": "03d6e06d-06a3-4662-b25d-566882ec1f8f",
   "metadata": {},
   "outputs": [],
   "source": []
  }
 ],
 "metadata": {
  "kernelspec": {
   "display_name": "Python 3 (ipykernel)",
   "language": "python",
   "name": "python3"
  },
  "language_info": {
   "codemirror_mode": {
    "name": "ipython",
    "version": 3
   },
   "file_extension": ".py",
   "mimetype": "text/x-python",
   "name": "python",
   "nbconvert_exporter": "python",
   "pygments_lexer": "ipython3",
   "version": "3.10.13"
  }
 },
 "nbformat": 4,
 "nbformat_minor": 5
}
